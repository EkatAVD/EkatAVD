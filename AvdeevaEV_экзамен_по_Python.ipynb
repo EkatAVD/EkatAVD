{
  "nbformat": 4,
  "nbformat_minor": 0,
  "metadata": {
    "colab": {
      "provenance": [],
      "authorship_tag": "ABX9TyOe2FZbTDntvpJK7j/cA4YL",
      "include_colab_link": true
    },
    "kernelspec": {
      "name": "python3",
      "display_name": "Python 3"
    },
    "language_info": {
      "name": "python"
    }
  },
  "cells": [
    {
      "cell_type": "markdown",
      "metadata": {
        "id": "view-in-github",
        "colab_type": "text"
      },
      "source": [
        "<a href=\"https://colab.research.google.com/github/EkatAVD/EkatAVD/blob/main/AvdeevaEV_%D1%8D%D0%BA%D0%B7%D0%B0%D0%BC%D0%B5%D0%BD_%D0%BF%D0%BE_Python.ipynb\" target=\"_parent\"><img src=\"https://colab.research.google.com/assets/colab-badge.svg\" alt=\"Open In Colab\"/></a>"
      ]
    },
    {
      "cell_type": "markdown",
      "source": [
        "**1) Напишите функцию, которая преобразует список целых чисел так, что остаются числа только кратные пяти.**"
      ],
      "metadata": {
        "id": "kE5YIbCQkFSC"
      }
    },
    {
      "cell_type": "code",
      "source": [
        "def numbers (arg):\n",
        "    return list (filter(lambda num: num %5==0, arg))\n"
      ],
      "metadata": {
        "id": "V2QqYHAYkRo3"
      },
      "execution_count": null,
      "outputs": []
    },
    {
      "cell_type": "code",
      "source": [
        "numbers (list(range (100))) # test"
      ],
      "metadata": {
        "colab": {
          "base_uri": "https://localhost:8080/"
        },
        "id": "4O3z2zWtntTl",
        "outputId": "cc2b8dea-585f-4473-e1e2-593a36b13f50"
      },
      "execution_count": null,
      "outputs": [
        {
          "output_type": "execute_result",
          "data": {
            "text/plain": [
              "[0, 5, 10, 15, 20, 25, 30, 35, 40, 45, 50, 55, 60, 65, 70, 75, 80, 85, 90, 95]"
            ]
          },
          "metadata": {},
          "execution_count": 5
        }
      ]
    },
    {
      "cell_type": "markdown",
      "source": [
        "**2) Напишите программу, которая выводит четные числа из заданного списка и останавливается, если встречается число 237.**"
      ],
      "metadata": {
        "id": "Wg2rjFFmoSAr"
      }
    },
    {
      "cell_type": "code",
      "source": [
        "a = [1, 1, 2, 3, 5, 8, 16, 13, 21, 34, 55, 89, 237, 22, 240, 239, 17] # создаем список, проходимся по нему циклом for.\n",
        "for a in a:\n",
        "    if a == 237: # если встречается число 237, то программа останавливается с помощью break\n",
        "        break\n",
        "    if a % 2 == 0: # и выбираем числа, которые делятся на 2\n",
        "        print(a)"
      ],
      "metadata": {
        "colab": {
          "base_uri": "https://localhost:8080/"
        },
        "id": "BQkc0C-rpQt0",
        "outputId": "eecfde5d-fd2d-493d-a2c6-de4287cee0e2"
      },
      "execution_count": null,
      "outputs": [
        {
          "output_type": "stream",
          "name": "stdout",
          "text": [
            "2\n",
            "8\n",
            "16\n",
            "34\n"
          ]
        }
      ]
    },
    {
      "cell_type": "markdown",
      "source": [
        "**3) Подсчитайте количество гласных и согласных в строке, записанной кириллицей. Гласными буквами считаем буквы А, И, О, У, Ы, Э, Е, Ё, Ю, Я. Согласными все остальные, кроме Ь и Ъ. В тексте используются только заглавные, прописные буквы и пробелы.**"
      ],
      "metadata": {
        "id": "3ZzftlBvr-_c"
      }
    },
    {
      "cell_type": "code",
      "source": [
        "def count_vowels_and_consonants(text):\n",
        "    vowels = \"АИОУЫЭЕЁЮЯ\"\n",
        "    consonants = \"БВГДЖЗЙКЛМНПРСТФХЦЧШЩ\"\n",
        "    text = text.upper()\n",
        "\n",
        "    vowels_count = sum(1 for char in text if char in vowels)\n",
        "    consonants_count = sum(1 for char in text if char in consonants and char not in \"ЬЪ\")\n",
        "\n",
        "    return vowels_count, consonants_count\n",
        "\n",
        "text = \"Пример текста для подсчета гласных и согласных букв\"\n",
        "vowels, consonants = count_vowels_and_consonants(text)\n",
        "\n",
        "print(f\"Количество гласных букв: {vowels}\")\n",
        "print(f\"Количество согласных букв: {consonants}\")"
      ],
      "metadata": {
        "colab": {
          "base_uri": "https://localhost:8080/"
        },
        "id": "ZExNvyeltPYE",
        "outputId": "2155cf25-92a7-4976-e6a1-23526c46fb0d"
      },
      "execution_count": null,
      "outputs": [
        {
          "output_type": "stream",
          "name": "stdout",
          "text": [
            "Количество гласных букв: 15\n",
            "Количество согласных букв: 29\n"
          ]
        }
      ]
    },
    {
      "cell_type": "markdown",
      "source": [
        "**4) Напишите функцию, которая принимаент текст и выводит самое длинное слово.**"
      ],
      "metadata": {
        "id": "IbJJRHvtvyg0"
      }
    },
    {
      "cell_type": "code",
      "source": [
        "def max_word(text): # в программе функция max_word разбивает входной текст\n",
        "\n",
        "    words = text.split()\n",
        "\n",
        "    x = \"\"\n",
        "    y = 0\n",
        "\n",
        "    for word in words: # на отдельные слова, определяет самое длинное слово и возвращает его.\n",
        "        z = len(word)\n",
        "        if z > y:\n",
        "            x = word\n",
        "            y = z\n",
        "\n",
        "    return x\n",
        "\n",
        "text = \"Python - в русском языке встречаются названия питон или пайтон — высокоуровневый язык программирования общего назначения с динамической строгой типизацией и автоматическим управлением памятью, ориентированный на повышение производительности разработчика, читаемости кода и его качества, а также на обеспечение переносимости написанных на нём программ\"\n",
        "x = max_word(text)\n",
        "\n",
        "print(f\"Самое длинное слово: {x}\") # после этого мы применяем эту функцию к заданному тексту и выводим результат на экран."
      ],
      "metadata": {
        "colab": {
          "base_uri": "https://localhost:8080/"
        },
        "id": "ocgXkgl8womz",
        "outputId": "a6947b44-dc28-4a72-9751-8f42558161c4"
      },
      "execution_count": 29,
      "outputs": [
        {
          "output_type": "stream",
          "name": "stdout",
          "text": [
            "Самое длинное слово: производительности\n"
          ]
        }
      ]
    },
    {
      "cell_type": "markdown",
      "source": [
        "**5) Создайте список, содержащий все числа от 0 до 99, но перемешанные случайным образом.**"
      ],
      "metadata": {
        "id": "nfa2jcyN4mOP"
      }
    },
    {
      "cell_type": "code",
      "source": [
        "import random\n",
        "\n",
        "numbers = list(range(100))  # Создаем список чисел от 0 до 99\n",
        "random.shuffle(numbers)  # Перемешиваем список случайным образом\n",
        "\n",
        "print(numbers)"
      ],
      "metadata": {
        "colab": {
          "base_uri": "https://localhost:8080/"
        },
        "id": "hOSFgXh7z9So",
        "outputId": "e021551f-6f1a-42d4-ed75-68c7b1e19028"
      },
      "execution_count": 30,
      "outputs": [
        {
          "output_type": "stream",
          "name": "stdout",
          "text": [
            "[26, 0, 93, 38, 44, 68, 60, 53, 81, 59, 31, 82, 32, 11, 21, 64, 95, 4, 77, 48, 55, 27, 51, 30, 73, 47, 43, 80, 46, 42, 86, 87, 97, 52, 90, 14, 72, 74, 22, 49, 13, 71, 88, 84, 9, 85, 28, 99, 83, 25, 57, 58, 5, 34, 12, 61, 2, 23, 62, 20, 10, 16, 94, 67, 76, 65, 15, 8, 54, 33, 1, 91, 63, 17, 66, 29, 92, 79, 39, 56, 18, 69, 75, 37, 36, 98, 96, 24, 41, 40, 19, 89, 70, 3, 78, 35, 50, 6, 7, 45]\n"
          ]
        }
      ]
    },
    {
      "cell_type": "markdown",
      "source": [
        "**6) Напишите функцию-генератор, которая принимает строку как аргумент и выдает только символы строки, которые являются буквами (строковый метод .isalpha()) и пробелы.**"
      ],
      "metadata": {
        "id": "VA2l7nXP5nYW"
      }
    },
    {
      "cell_type": "code",
      "source": [
        "def generator_function(string):\n",
        "    for char in string:\n",
        "        if char.isalpha() or char == ' ':\n",
        "            yield char\n",
        "\n",
        "# Пример использования\n",
        "input_string = \"Фронтенд — это лицо приложения, а бэкенд — его мозг\"\n",
        "for char in generator_function(input_string):\n",
        "    print(char)"
      ],
      "metadata": {
        "colab": {
          "base_uri": "https://localhost:8080/"
        },
        "id": "R9JUVUBH6Hnk",
        "outputId": "c6299646-3e6d-449a-f168-3375e71047df"
      },
      "execution_count": 37,
      "outputs": [
        {
          "output_type": "stream",
          "name": "stdout",
          "text": [
            "Ф\n",
            "р\n",
            "о\n",
            "н\n",
            "т\n",
            "е\n",
            "н\n",
            "д\n",
            " \n",
            " \n",
            "э\n",
            "т\n",
            "о\n",
            " \n",
            "л\n",
            "и\n",
            "ц\n",
            "о\n",
            " \n",
            "п\n",
            "р\n",
            "и\n",
            "л\n",
            "о\n",
            "ж\n",
            "е\n",
            "н\n",
            "и\n",
            "я\n",
            " \n",
            "а\n",
            " \n",
            "б\n",
            "э\n",
            "к\n",
            "е\n",
            "н\n",
            "д\n",
            " \n",
            " \n",
            "е\n",
            "г\n",
            "о\n",
            " \n",
            "м\n",
            "о\n",
            "з\n",
            "г\n"
          ]
        }
      ]
    },
    {
      "cell_type": "code",
      "source": [
        "def generator_function(string):\n",
        "    for char in text:\n",
        "        if char.isalpha() or char == \" \":\n",
        "            yield char\n",
        "\n",
        "string = \"Python - в русском языке встречаются названия питон 1234 или пайтон !@#\"\n",
        "filtered_string = \"\".join(filter_letters_and_spaces(string))\n",
        "\n",
        "print(filtered_string)"
      ],
      "metadata": {
        "colab": {
          "base_uri": "https://localhost:8080/"
        },
        "id": "2j_2cAxP7BUt",
        "outputId": "aee75822-f9e1-419f-c2f7-7960f7ab06d8"
      },
      "execution_count": 36,
      "outputs": [
        {
          "output_type": "stream",
          "name": "stdout",
          "text": [
            "Python  в русском языке встречаются названия питон  или пайтон \n"
          ]
        }
      ]
    }
  ]
}